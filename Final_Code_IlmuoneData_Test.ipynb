{
 "cells": [
  {
   "cell_type": "markdown",
   "metadata": {},
   "source": [
    "# Melakukan Scrap Terhadap Gmail"
   ]
  },
  {
   "cell_type": "code",
   "execution_count": 2,
   "metadata": {},
   "outputs": [
    {
     "name": "stdout",
     "output_type": "stream",
     "text": [
      "email berhasil di scrap!\n",
      "berikut clue yang diberikan:\n",
      "untuk hari 5 clue yang dberikan 637\n"
     ]
    }
   ],
   "source": [
    "import imaplib, email, os, re\n",
    "\n",
    "user = 'kosar.candidate@gmail.com'\n",
    "pasw = '123ewqASD'\n",
    "imap_url = 'imap.gmail.com'\n",
    "attachment_dir = 'C:/Users/PidiePie'\n",
    "\n",
    "def get_body(msg): #fungsi extract body\n",
    "    if msg.is_multipart():\n",
    "        return get_body(msg.get_payload(0))\n",
    "    else :\n",
    "        return msg.get_payload(None,True)\n",
    "    \n",
    "def search(key,value,con): #fungsi search\n",
    "    result, data = con.search(None,key,'\"{}\"'.format(value))\n",
    "    return data\n",
    "\n",
    "def get_attachment(msg): # fungsi untuk ngambil attachment\n",
    "    for part in msg.walk():\n",
    "        if part.get_content_maintype()=='multipart':\n",
    "            continue\n",
    "        if part.get('Content-Disposition') is None:\n",
    "            continue\n",
    "        fileName = part.get_filename()\n",
    "        if bool(fileName):\n",
    "            filePath = os.path.join(attachment_dir, fileName)\n",
    "            with open(filePath, 'wb') as f:\n",
    "                f.write(part.get_payload(decode=True))\n",
    "\n",
    "con = imaplib.IMAP4_SSL(imap_url)\n",
    "con.login(user,pasw)\n",
    "con.select('INBOX')\n",
    "result, data = con.search(None, '(FROM \"noreply@ilmuonedata.com\")') # ambil email\n",
    "\n",
    "ids = data[0] # buat data jadi list.\n",
    "id_list = ids.split() # pisahkan\n",
    "latest_email_id = id_list[-1] # ambil yang trakhir\n",
    "\n",
    "result, data = con.fetch(latest_email_id, \"(RFC822)\")  #email terakhir\n",
    "raw = email.message_from_bytes(data[0][1])\n",
    "get_attachment(raw) #ambil attachment\n",
    "print('email berhasil di scrap!')\n",
    "print('berikut clue yang diberikan:')\n",
    "get_body(raw)# ambil body dimana sebagai clue\n",
    "isibody = str(get_body(raw))\n",
    "nilai=re.findall(r\"\\d+\", isibody)\n",
    "print('untuk hari',nilai[0],'clue yang dberikan',nilai[2])"
   ]
  },
  {
   "cell_type": "markdown",
   "metadata": {},
   "source": [
    "# Memproses Data dari Attachment email yang diberikan"
   ]
  },
  {
   "cell_type": "code",
   "execution_count": 3,
   "metadata": {},
   "outputs": [
    {
     "name": "stdout",
     "output_type": "stream",
     "text": [
      "the total value from id contains 637 is 713\n"
     ]
    }
   ],
   "source": [
    "import pandas as pd\n",
    "import os\n",
    "import pandas as pd\n",
    "\n",
    "search_dir = r\"C:\\Users\\PidiePie\\email baru\"\n",
    "os.chdir(search_dir)\n",
    "files = filter(os.path.isfile, os.listdir(search_dir))\n",
    "files = [os.path.join(search_dir, f) for f in files] # add path to each file\n",
    "files.sort(key=lambda x: os.path.getmtime(x), reverse=True)\n",
    "dfs = pd.read_csv(files[0])\n",
    "dfs.shape\n",
    "\n",
    "total=0\n",
    "clue= nilai[2] #insert clue\n",
    "for x in dfs.iterrows():\n",
    "    i = x[1][1]\n",
    "    v = x[1][2]\n",
    "    if clue in i:\n",
    "        total += v\n",
    "print('the total value from id contains '+str(clue)+' is '+str(total))"
   ]
  },
  {
   "cell_type": "markdown",
   "metadata": {},
   "source": [
    "# Melakukan Load/Forward email atas hasil dari pengolahan data terhadap client"
   ]
  },
  {
   "cell_type": "code",
   "execution_count": 10,
   "metadata": {},
   "outputs": [
    {
     "name": "stdout",
     "output_type": "stream",
     "text": [
      "sukses di kirim!!!\n"
     ]
    }
   ],
   "source": [
    "import smtplib\n",
    "from email.mime.text import MIMEText\n",
    "from email.mime.multipart import MIMEMultipart\n",
    "from email.mime.base import MIMEBase\n",
    "from email import encoders\n",
    "import os.path\n",
    "\n",
    "day= str(nilai[1])\n",
    "email = 'kosar.candidate@gmail.com'\n",
    "pasw = '123ewqASD'\n",
    "send_to_email = ['sally@ilmuonedata.com', 'fuad@ilmuonedata.com','optimize@ilmuonedata.com' ]\n",
    "# send_to_email = ['kautsareko@gmail.com']\n",
    "subject = '[email-scrapping] day '+ str(day) +' result'\n",
    "message = 'the total value from id contains '+str(clue)+' is '+str(total) + '\\n''''Today is the last day, and I have\\\n",
    "optimized the entire program code so that it can run fully effective. No longer need to fill variables manually. Once the code is executed, it will carry out the following process:\n",
    "1. Scrap Gmail with the specifications of who is the sender, and the latest inbox.\n",
    "2. taking the body text and downloading the attachment that contains the value of the given id\n",
    "3. after that the attachment downloaded is calculated value with the given clue id\n",
    "4. the results of processing will be made an email with the conditions that have been set by Ilmuone Data.\n",
    "5. The last, the email will be forwarded to stakeholders that have been provided by IlmuOne Data.\n",
    "\n",
    "You can see the latest program code in the attachment below or access the link https://github.com/kautsareko/Test-IlmuOneData.\n",
    "Thank you for your attention.\n",
    "\n",
    "Best Regards,\n",
    "\n",
    "Alkautsar'''\n",
    "\n",
    "file_location = 'C:\\\\Users\\\\PidiePie\\\\Final_Code_IlmuoneData_Test.ipynb'\n",
    "\n",
    "msg = MIMEMultipart()\n",
    "msg['From'] = email\n",
    "msg['To'] = \",\".join(send_to_email)\n",
    "msg['Subject'] = subject\n",
    "\n",
    "msg.attach(MIMEText(message, 'plain'))\n",
    "\n",
    "filename= os.path.basename(file_location)\n",
    "attachment = open (file_location, \"rb\")\n",
    "part= MIMEBase('application','octet-stream')\n",
    "part.set_payload((attachment).read())\n",
    "encoders.encode_base64(part)\n",
    "part.add_header('Content-Disposition',\"attachment; filename= %s\" % filename)\n",
    "\n",
    "msg.attach(part)\n",
    "\n",
    "server = smtplib.SMTP('smtp.gmail.com', 587)\n",
    "server.starttls()\n",
    "server.login(email, pasw)\n",
    "text = msg.as_string()\n",
    "server.sendmail(email, send_to_email, text)\n",
    "server.quit\n",
    "print('sukses di kirim!!!')"
   ]
  },
  {
   "cell_type": "code",
   "execution_count": null,
   "metadata": {},
   "outputs": [],
   "source": []
  }
 ],
 "metadata": {
  "kernelspec": {
   "display_name": "Python 3",
   "language": "python",
   "name": "python3"
  },
  "language_info": {
   "codemirror_mode": {
    "name": "ipython",
    "version": 3
   },
   "file_extension": ".py",
   "mimetype": "text/x-python",
   "name": "python",
   "nbconvert_exporter": "python",
   "pygments_lexer": "ipython3",
   "version": "3.7.1"
  }
 },
 "nbformat": 4,
 "nbformat_minor": 2
}

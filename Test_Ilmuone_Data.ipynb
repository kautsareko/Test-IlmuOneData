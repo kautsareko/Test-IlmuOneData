{
 "cells": [
  {
   "cell_type": "markdown",
   "metadata": {},
   "source": [
    "# Scrap Email attachment"
   ]
  },
  {
   "cell_type": "code",
   "execution_count": 145,
   "metadata": {},
   "outputs": [],
   "source": [
    "import imaplib, email, os\n",
    "\n",
    "user = 'kosar.candidate@gmail.com'\n",
    "pasw = '123ewqASD'\n",
    "imap_url = 'imap.gmail.com'\n",
    "attachment_dir = 'C:/Users/PidiePie'\n",
    "\n",
    "def get_body(msg):\n",
    "    if msg.is_multipart():\n",
    "        return get_body(msg.get_payload(0))\n",
    "    else :\n",
    "        return msg.get_payload(None,True)\n",
    "    \n",
    "def search(key,value,con):\n",
    "    result, data = con.search(None,key,'\"{}\"'.format(value))\n",
    "    return data\n",
    "\n",
    "def get_attachment(msg):\n",
    "    for part in msg.walk():\n",
    "        if part.get_content_maintype()=='multipart':\n",
    "            continue\n",
    "        if part.get('Content-Disposition') is None:\n",
    "            continue\n",
    "        fileName = part.get_filename()\n",
    "        if bool(fileName):\n",
    "            filePath = os.path.join(attachment_dir, fileName)\n",
    "            with open(filePath, 'wb') as f:\n",
    "                f.write(part.get_payload(decode=True))\n",
    "\n",
    "con = imaplib.IMAP4_SSL(imap_url)\n",
    "con.login(user,pasw)\n",
    "con.select('INBOX')\n",
    "\n",
    "result, data = con.fetch(b'4','(RFC822)') \n",
    "raw = email.message_from_bytes(data[0][1])\n",
    "get_attachment(raw)\n",
    "print('email berhasil di scrap!')\n"
   ]
  },
  {
   "cell_type": "markdown",
   "metadata": {},
   "source": [
    "# Count total Value from spesifik ID"
   ]
  },
  {
   "cell_type": "code",
   "execution_count": 12,
   "metadata": {},
   "outputs": [
    {
     "name": "stdout",
     "output_type": "stream",
     "text": [
      "the total value from id contains 700 is 138\n"
     ]
    }
   ],
   "source": [
    "import pandas as pd\n",
    "\n",
    "df=pd.read_csv('email_0.csv')\n",
    "df\n",
    "total=0\n",
    "b=1\n",
    "for x in df.iterrows():\n",
    "    i = x[1][1]\n",
    "    v = x[1][2]   \n",
    "    if '700' in i:\n",
    "        total += v\n",
    "print('the total value from id contains 700 is',total)\n",
    "        \n",
    "        \n",
    "        \n",
    "        "
   ]
  },
  {
   "cell_type": "markdown",
   "metadata": {},
   "source": [
    "# Forward Email kepada client"
   ]
  },
  {
   "cell_type": "code",
   "execution_count": 22,
   "metadata": {},
   "outputs": [
    {
     "name": "stdout",
     "output_type": "stream",
     "text": [
      "sukses di kirim!!!\n"
     ]
    }
   ],
   "source": [
    "import smtplib\n",
    "from email.mime.text import MIMEText\n",
    "from email.mime.multipart import MIMEMultipart\n",
    "from email.mime.base import MIMEBase\n",
    "from email import encoders\n",
    "import os.path\n",
    "\n",
    "email = 'kosar.candidate@gmail.com'\n",
    "pasw = '123ewqASD'\n",
    "# send_to_email = ['sally@ilmuonedata.com', 'fuad@ilmuonedata.com','optimize@ilmuonedata.com' ]\n",
    "send_to_email = 'c0wsar007@gmail.com'\n",
    "subject = '[email-scrapping] day 0 result'\n",
    "message = 'the total value from id contains 700 is 138\\n saya menuliskan kode untuk mengautomasi email lalu menghitungnya\\\n",
    " dan mengforward kembali hasilnya menggunakan python. Meskipun begitu hal ini masih terbilang tidak terlalu otomatis karena\\\n",
    " setiap memforward saya harus mengubah beberapa variabel agar sesuai. Akan tetapi saya akan mencoba mencari cara untuk\\\n",
    " membuat kode ini berjalan lebih efektif. untuk kode yang dijalan kan saat ini dapat dilihat pada link github/kautsareko atau\\\n",
    " pada attachment dibawah ini.'\n",
    "file_location = 'C:\\\\Users\\\\PidiePie\\\\Test_Ilmuone_Data.ipynb'\n",
    "\n",
    "msg = MIMEMultipart()\n",
    "msg['From'] = email\n",
    "msg['To'] = \",\".join(send_to_email)\n",
    "msg['Subject'] = subject\n",
    "\n",
    "msg.attach(MIMEText(message, 'plain'))\n",
    "\n",
    "filename= os.path.basename(file_location)\n",
    "attachment = open (file_location, \"rb\")\n",
    "part= MIMEBase('application','octet-stream')\n",
    "part.set_payload((attachment).read())\n",
    "encoders.encode_base64(part)\n",
    "part.add_header('Content-Disposition',\"attachment; filename= %s\" % filename)\n",
    "\n",
    "msg.attach(part)\n",
    "\n",
    "server = smtplib.SMTP('smtp.gmail.com', 587)\n",
    "server.starttls()\n",
    "server.login(email, pasw)\n",
    "text = msg.as_string()\n",
    "server.sendmail(email, send_to_email, text)\n",
    "server.quit\n",
    "print('sukses di kirim!!!')"
   ]
  }
 ],
 "metadata": {
  "kernelspec": {
   "display_name": "Python 3",
   "language": "python",
   "name": "python3"
  },
  "language_info": {
   "codemirror_mode": {
    "name": "ipython",
    "version": 3
   },
   "file_extension": ".py",
   "mimetype": "text/x-python",
   "name": "python",
   "nbconvert_exporter": "python",
   "pygments_lexer": "ipython3",
   "version": "3.7.1"
  }
 },
 "nbformat": 4,
 "nbformat_minor": 2
}
